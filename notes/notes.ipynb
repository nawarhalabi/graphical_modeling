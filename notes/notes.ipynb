{
 "cells": [
  {
   "cell_type": "markdown",
   "metadata": {},
   "source": [
    "# Questions\n",
    "\n",
    "* Comparing Generative and Discriminative models.\n",
    "* Where does belief propagation and MCMC fit in Graphical modelling as concepts.\n",
    "* In the case of HMM why do we use belief propagation when inferring hidden states with statsics params. But we use EM when trying to infer the parameters given some data.\n",
    "* Is the difference between frequentist and baysian approaches only with the fact that we add priors in baysian stuff? Yes, but the choice of priors is a field of study. But it is a weaker assumption to be baysian.\n",
    "* When is the EM algorithm applicable? Dunno\n",
    "* Does Gibbs sampling work on all architectures and compare to NUTS? No\n",
    "* STAN can we use it? Would we lose any benefit? No.\n",
    "* Which lib has better future? Dunno, stan does not smaple from descrete vars must integrate out.\n",
    "* What about nonparametric mixtures? Did not do."
   ]
  },
  {
   "cell_type": "markdown",
   "metadata": {
    "collapsed": true
   },
   "source": [
    "# Notes\n",
    "* Experiment Design\n",
    "    * Sequential Design\n",
    "* Prior/Posterior predictive distributions\n",
    "* Ways to construct priors (Emprical Bayes). Or from the data (g-prior).\n",
    "* Combine polinmial regression overtime (apply to truth finding model?).\n",
    "* How different MCMC algos work.\n",
    "* What is factor analysis"
   ]
  }
 ],
 "metadata": {
  "kernelspec": {
   "display_name": "Python 3",
   "language": "python",
   "name": "python3"
  },
  "language_info": {
   "codemirror_mode": {
    "name": "ipython",
    "version": 3
   },
   "file_extension": ".py",
   "mimetype": "text/x-python",
   "name": "python",
   "nbconvert_exporter": "python",
   "pygments_lexer": "ipython3",
   "version": "3.6.1"
  }
 },
 "nbformat": 4,
 "nbformat_minor": 2
}
