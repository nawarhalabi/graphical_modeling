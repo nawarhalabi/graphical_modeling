{
 "cells": [
  {
   "cell_type": "code",
   "execution_count": 2,
   "metadata": {
    "collapsed": true
   },
   "outputs": [],
   "source": [
    "import pystan\n",
    "import pandas as pd\n",
    "import matplotlib.pyplot as plt"
   ]
  },
  {
   "cell_type": "code",
   "execution_count": null,
   "metadata": {
    "collapsed": true
   },
   "outputs": [],
   "source": [
    "model = '''\n",
    "data {\n",
    "    int E;                              // Number of entitis (items)\n",
    "    int S;                              // Number of continuous sources\n",
    "    int SM;                             // Number of metadata (discreet)\n",
    "    real mu0;                           // Truth prior\n",
    "    real sd0;                           // Truth prior\n",
    "    real<lower=0,upper=100> obss[S, E]; // Continuous observations\n",
    "    int meta[SM, E];                    // Discreet observations\n",
    "}\n",
    "parameters {\n",
    "    vector[E] mu;\n",
    "    real<lower=1,upper=20> std[S];\n",
    "    real a[SM];\n",
    "    real b[SM];\n",
    "}\n",
    "model {\n",
    "    for (e in 1:E) {\n",
    "      mu[e] ~ normal(mu0, sd0);\n",
    "    }\n",
    "    \n",
    "    for (s in 1:S) {\n",
    "      obss[s] ~ normal(mu, std[s]);\n",
    "    }\n",
    "}\n",
    "'''\n",
    "\n",
    "struct_data = {\n",
    "    'obss': data,\n",
    "    'meta': meta,\n",
    "    'E': 200,\n",
    "    'S': 4,\n",
    "    'SM': 2,\n",
    "    'sd0': 6,\n",
    "    'mu0': 80\n",
    "}"
   ]
  }
 ],
 "metadata": {
  "kernelspec": {
   "display_name": "Python 3",
   "language": "python",
   "name": "python3"
  },
  "language_info": {
   "codemirror_mode": {
    "name": "ipython",
    "version": 3
   },
   "file_extension": ".py",
   "mimetype": "text/x-python",
   "name": "python",
   "nbconvert_exporter": "python",
   "pygments_lexer": "ipython3",
   "version": "3.6.1"
  }
 },
 "nbformat": 4,
 "nbformat_minor": 2
}
