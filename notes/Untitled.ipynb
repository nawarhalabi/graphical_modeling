{
 "cells": [
  {
   "cell_type": "code",
   "execution_count": 2,
   "metadata": {},
   "outputs": [
    {
     "ename": "ERROR",
     "evalue": "Error in library(\"r2jags\"): there is no package called ‘r2jags’\n",
     "output_type": "error",
     "traceback": [
      "Error in library(\"r2jags\"): there is no package called ‘r2jags’\nTraceback:\n",
      "1. library(\"r2jags\")",
      "2. stop(txt, domain = NA)"
     ]
    }
   ],
   "source": [
    "library('r2jags')"
   ]
  },
  {
   "cell_type": "code",
   "execution_count": null,
   "metadata": {},
   "outputs": [],
   "source": [
    "install.packages(\"tidyverse\")\n",
    "install.packages(\"reshape2\")\n",
    "install.packages(\"broom\")\n",
    "install.packages(\"rjags\")\n",
    "install.packages(\"coda\")\n",
    "install.packages(\"MCMCpack\")\n",
    "install.packages(\"R2Winbugs\")\n",
    "install.packages(\"BRugs\")\n",
    "install.packages(\"depmixS4\")\n",
    "install.packages(\"bayesm\")\n",
    "install.packages(\"EasyABC\")\n",
    "install.packages(\"abc\")\n",
    "install.packages(\"mclust\")\n",
    "install.packages(\"mixtools\")\n",
    "install.packages(\"gamlr\")\n",
    "install.packages(\"tgp\")\n",
    "install.packages(\"mcsm\")\n",
    "install.packages(\"bayesmix\")\n",
    "install.packages(\"Lahman\")\n",
    "install.packages(\"rpart\")\n",
    "install.packages(\"rpart.plot\")\n",
    "install.packages(\"gbm\")"
   ]
  },
  {
   "cell_type": "code",
   "execution_count": null,
   "metadata": {
    "collapsed": true
   },
   "outputs": [],
   "source": []
  }
 ],
 "metadata": {
  "kernelspec": {
   "display_name": "R",
   "language": "R",
   "name": "ir"
  },
  "language_info": {
   "codemirror_mode": "r",
   "file_extension": ".r",
   "mimetype": "text/x-r-source",
   "name": "R",
   "pygments_lexer": "r",
   "version": "3.4.1"
  }
 },
 "nbformat": 4,
 "nbformat_minor": 2
}
