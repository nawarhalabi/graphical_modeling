{
 "cells": [
  {
   "cell_type": "markdown",
   "metadata": {},
   "source": [
    "# Graphical Modeling\n",
    "<strong>This notebook contains general notes about grpahical modeling. It was used to create the presentation.pptx file in this repo. This file is a reference for the presenter.</strong>\n",
    "\n",
    "Graphical Modeling is using graphs to represent probability distributions or sets of them.\n",
    "\n",
    "<img src='img/gm.jpg' width='600px' />\n",
    "\n",
    "\n",
    "# Hierarchical Modeling\n",
    "Refers to modeling that looks like this:\n",
    "\n",
    "\\begin{align}\n",
    "y|x,\\theta & \\sim P(y|x,\\theta) \\\\\n",
    "x|\\theta & \\sim P(x|\\theta) \\\\\n",
    "\\theta & \\sim P(\\theta)\n",
    "\\end{align}\n",
    "\n",
    "# Probablistic Modeling\n",
    "* Probablistic Modeling is more general term\n",
    "\n",
    "# (Bayesian or Otherwise)\n",
    "\n",
    "* Modeling data using probability (mainly conditional probably relations). For example, this random variable is ditributed with distribution X parameterised by this other RV Y.\n",
    "\n",
    "# For Machine Learning"
   ]
  },
  {
   "cell_type": "markdown",
   "metadata": {},
   "source": [
    "# Introduction: What is Machine Learning? How do GMs fit in?\n",
    "\n",
    "When we say machine learning we might think of a set:\n",
    "\n",
    "`\n",
    "{\n",
    "    (x1, y1),\n",
    "    (x2, y2),\n",
    "    .        \n",
    "    .        \n",
    "    .        \n",
    "    (xn, yn) \n",
    "}\n",
    "`\n",
    "We might try to:\n",
    "1. <strong>Learn a mapping</strong> function `y = f(x)` to predict `y` for new values of `x`\n",
    "2. Model `(x, y)` together to <strong>generate</strong> new values for `(x, y)`\n",
    "3. Run regression models or classification models to determine which of `x`'s dimentions has impact on `y`. This is not just for prediction but for <strong>making some informed conclusions</strong>. This might involve hypothesis testing.\n",
    "\n",
    "<strong>Notes:</strong>\n",
    "* `x, y` can have multiple dimentions and can be continuous or discrete. This will determine whether we are doing regression or classification.\n",
    "* <strong>In GM we can do all the above.</strong>"
   ]
  },
  {
   "cell_type": "markdown",
   "metadata": {},
   "source": [
    "# Learning (fitting)\n",
    "\n",
    "In all the cases above we usually need to fit a model\n",
    "\n",
    "Two steps:\n",
    "1. Define a model: A set of possible functions which predict or generate your data, parameterised by some `theta`\n",
    "2. Define a loss function: A function of `theta` (and your data) which you need to optimise (minimise) with respect to `theta` to end up with the best possible model."
   ]
  },
  {
   "cell_type": "markdown",
   "metadata": {},
   "source": [
    "# Probablity and Machine Learning\n",
    "\n",
    "<strong>Quetions:</strong>\n",
    "* Now what does probability have to do with machine learning?\n",
    "* Or, when does a model become probablistic?\n",
    "\n",
    "<strong>Answer:</strong> When the model is a probability distribution (or a set of parameterised ones). In other words, when we treat our unknowns (and sometimes the observed) as random variables.\n",
    "* For example, find the most likely distribution which generated the data we observed.\n",
    "* Or, find the most likely conditional distribution which would generate `y` given `x`.\n",
    "\n",
    "ِAnd usualy the loss function used is the likelihood. More on this later."
   ]
  },
  {
   "cell_type": "markdown",
   "metadata": {},
   "source": [
    "# And this is how GMs fit in as they represent probablity distributions or a parameterised set thereof!"
   ]
  },
  {
   "cell_type": "markdown",
   "metadata": {},
   "source": [
    "# Probabilty Distributions\n",
    "\n",
    "* A function which maps an outcome to a number between 0 and 1 which represents its probability of occurance. \n",
    "* Outcomes can be represented by discrete or continuous numbers.\n",
    "* `theta = 0.325636` is an outcome, `y = 1` is an outcome."
   ]
  },
  {
   "cell_type": "markdown",
   "metadata": {},
   "source": [
    "# Some Rules\n",
    "\n",
    "* Probability distributions can be univariate or multivariate.\n",
    "    * Univariate: The probability `P(theta = 0.43)`\n",
    "    * Multivariate: The probability `P(theta = 0.43 & y = 1)`\n",
    "* `P(x,y,theta)` is one way to refer to the joint probability over your data and parameters.\n",
    "* `P(x,y,theta) = P(x,y|theta) * P(theta)` you often see this in literature. This is the chain rule. if you do the chain rule one the left by reversing `x, y` and `theta` you get Bayes theorem.\n",
    "* Chain rule taken for granted and hence Bayes."
   ]
  },
  {
   "cell_type": "markdown",
   "metadata": {},
   "source": [
    "# Intuitions behind in Probablistic ML... And hence GMs"
   ]
  },
  {
   "cell_type": "markdown",
   "metadata": {},
   "source": [
    "* `P(x,y,theta)` refers to all possible distrbutions (infinit possibilities).\n",
    "* Imagine if you had 1 probability and you had to split it between all combinations of `x,y,theta` assignments.\n",
    "* In probablistic machine learning usually we ask one of these questions:\n",
    "    * Which is the `theta` which most likely generated the data `x, y`? (more frequentist)\n",
    "    * Which is the `theta` which given the `x` part of the data, generated the `y` part of the data? (also frequentist)\n",
    "    * What do I know about `theta` before and after seeing the data? (more Bayesian)"
   ]
  },
  {
   "cell_type": "markdown",
   "metadata": {},
   "source": [
    "# How to Represent `P(x,y,theta)`?\n",
    "\n",
    "* Infinite possibilities of distributions and parameterisations\n",
    "* We have to simplify it"
   ]
  },
  {
   "cell_type": "markdown",
   "metadata": {},
   "source": [
    "# Back to the basics `P(x,y,z)`\n",
    "\n",
    "* Using the chain rule: `P(x,y,z) = P(x|y,z) * P(y,z) = P(x|y,z) * P(y|z) * P(z)`\n",
    "* We can see that the set of all possible, multivariate distributions factorises to simpler parameterised (conditional) univariate distributions\n",
    "* Still the collective complexity has not changed"
   ]
  },
  {
   "cell_type": "markdown",
   "metadata": {},
   "source": [
    "# Graphical Modeling\n",
    "\n",
    "* Represent distribution with a set of conditional dependancies from the chain rule\n",
    "* Reduce the complexity by assuming conditional independance relations\n",
    "* These assumptions of conditional independance are usually informed"
   ]
  },
  {
   "cell_type": "markdown",
   "metadata": {},
   "source": [
    "# Now simplify\n",
    "\n",
    "`P(x,y,z) = P(x|y,z) * P(y,z) = P(x|y,z) * P(y|z) * P(z)` becomes:\n",
    "* what if I change it to this: `P(x|y) * P(y|z) * P(z)`\n",
    "* Or this: `P(x|z) * P(y|z) * P(z)`\n",
    "* we reduce complexity and the set of possible distributions, maybe if we represent it as a graph"
   ]
  },
  {
   "cell_type": "markdown",
   "metadata": {},
   "source": [
    "# NOW Graphical Models\n",
    "\n",
    "* Let's represent every sufficient conditional dependancy as an edge, and every random variable as a node\n",
    "* Usually dark nodes are observed and light nodes are random variables (generated or sampled)\n",
    "* Ignore the colors for now"
   ]
  },
  {
   "cell_type": "code",
   "execution_count": 1,
   "metadata": {
    "collapsed": true
   },
   "outputs": [],
   "source": [
    "import networkx as nx\n",
    "G = nx.DiGraph()"
   ]
  },
  {
   "cell_type": "code",
   "execution_count": 27,
   "metadata": {},
   "outputs": [
    {
     "data": {
      "image/png": "[encoded data removed]",
      "text/plain": [
       "<Figure size 432x288 with 1 Axes>"
      ]
     },
     "metadata": {},
     "output_type": "display_data"
    }
   ],
   "source": [
    "G.clear()\n",
    "G.add_nodes_from(['x', 'y', 'z'])\n",
    "G.add_edges_from([('z', 'y'), ('z', 'x'), ('y', 'x')])\n",
    "nx.draw(G, with_labels=True, node_size=2000, arrowsize=40)"
   ]
  },
  {
   "cell_type": "markdown",
   "metadata": {},
   "source": [
    "# Markov Assumption (a simplification)"
   ]
  },
  {
   "cell_type": "code",
   "execution_count": 28,
   "metadata": {},
   "outputs": [
    {
     "data": {
      "image/png": "[encoded data removed]",
      "text/plain": [
       "<Figure size 432x288 with 1 Axes>"
      ]
     },
     "metadata": {},
     "output_type": "display_data"
    }
   ],
   "source": [
    "G.clear()\n",
    "G.add_nodes_from(['x', 'y', 'z'])\n",
    "G.add_edges_from([('z', 'y'), ('y', 'x')])\n",
    "nx.draw(G, with_labels=True, node_size=2000, arrowsize=40)"
   ]
  },
  {
   "cell_type": "markdown",
   "metadata": {},
   "source": [
    "# Naive Bayes Assumption (a simplification)"
   ]
  },
  {
   "cell_type": "code",
   "execution_count": 32,
   "metadata": {},
   "outputs": [
    {
     "data": {
      "image/png": "[encoded data removed]",
      "text/plain": [
       "<Figure size 432x288 with 1 Axes>"
      ]
     },
     "metadata": {},
     "output_type": "display_data"
    }
   ],
   "source": [
    "G.clear()\n",
    "G.add_nodes_from(['x', 'y', 'z'])\n",
    "G.add_edges_from([('z', 'y'), ('z', 'x')])\n",
    "nx.draw(G, with_labels=True, node_size=2000, arrowsize=40)"
   ]
  },
  {
   "cell_type": "markdown",
   "metadata": {},
   "source": [
    "# More Real Examples of Directed Asyclic Graphical Models"
   ]
  },
  {
   "cell_type": "markdown",
   "metadata": {},
   "source": [
    "## HMM\n",
    "\n",
    "<img src=\"bayes_hmm.png\" />\n",
    "\n",
    "from http://blog.oliverparson.co.uk/2014/12/infer-hmm-infernet-implementation-of.html"
   ]
  },
  {
   "cell_type": "markdown",
   "metadata": {},
   "source": [
    "# Other Types of Graphs\n",
    "\n",
    "* We presented Directed Acyclic Graphs (DAGs)\n",
    "* There are other types of graphical models:\n",
    "    * Undirected Graphs (UGs): Parameterise by a splitting the random variables into subsets and giving each subset (clique) a parameterised joint distribution\n",
    "    * Factor Graphs (FGs): Like UGs, they represent the joint distribution with the product of many subjoint distributions but with different visual and mathematical representation\n",
    "* We will focus on DAGs\n",
    "* All 3 types of graphs are able to model all types of distributions. They just have different parameterisations and usually different learning loss functions and algorithms\n",
    "* There are different laws of conditional independence for each type of graph"
   ]
  },
  {
   "cell_type": "markdown",
   "metadata": {},
   "source": [
    "# Conditional Independence (or just independance given what we know which is always the case)\n",
    "\n",
    "* Two nodes are said to be conditionally independent if:\n",
    "    * They are completely lie in disjoint parts of the graph.\n",
    "    * They are D separated."
   ]
  },
  {
   "cell_type": "markdown",
   "metadata": {},
   "source": [
    "# Do not Confuse with Generative and Discriminative models\n",
    "\n",
    "* Discriminitive and Generetive models are not analogies of UGs and DAGs!\n",
    "* UGs and DAGS are different parameterisations and they differ in which probability distributions they can model.\n",
    "* UGs are harder to learn due to the normalisation parameter which depends on x Z(x).\n",
    "* Markov Random Fields MRF is another name for UGs and they define a general set of models.\n",
    "* For examples, conditional random fields are MRFs trained on the conditional Likelihood."
   ]
  },
  {
   "cell_type": "markdown",
   "metadata": {},
   "source": [
    "# Also, do not confuse baysian and non-baysian with discriminative and generative models\n",
    "* Often there is a distinction between Generative and Discriminative \"Learning\" and \"Models\"\n",
    "* We can choose one of the two as a consistant way to describe the difference between models.\n",
    "* But generally, models are often associated with training procedures which are described as both Generative or Discriminative. For example CRFs are discriminative and they are discriminatively trained. Although CRFs are not necessarily discriminative.\n",
    "* It is important to note that discriminative training is not bayesian within the specified model but within the imaginary \"different model\".\n",
    "* Since all our examples are bayesian, we will only train generatively. But if the model has an independent X generation process then this would be equivalent to some discriminative training.\n",
    "\n",
    "Generative: ```P(y;a) * P(x|y;b)``` can be translated to ```P(x;f1(a,b)) * P(y|x;f2(a,b))```\n",
    "    \n",
    "Discriminative: ```P(x;c) * (y|x;d)``` where ```c``` and ```d``` are independent\n",
    "\n",
    "So a discriminative model is a model where the parameters which generate x are independent (different) of the parameters which generate y given x. And the training in the context of Graphical Modelling is the same for both discriminative and generative models."
   ]
  },
  {
   "cell_type": "markdown",
   "metadata": {},
   "source": [
    "* Ng shows how generative models reach their higher assimtotic error faster.\n",
    "* Bishop (<a href=\"https://www.microsoft.com/en-us/research/wp-content/uploads/2016/05/Bishop-Valencia-07.pdf\">Generative or Discriminative? Getting the Best of Both Worlds</a>) shows how discriminative training is basically generative training of a different model. This different model assumes and independent process for generating the Xs."
   ]
  },
  {
   "cell_type": "markdown",
   "metadata": {},
   "source": [
    "# Back to Fitting"
   ]
  },
  {
   "cell_type": "markdown",
   "metadata": {},
   "source": [
    "1. Maximum Likelihood (frequentist)\n",
    "    * Find the max of L(theta) = Product(P(xi,yi|theta))\n",
    "2. MAP (more Bayesian)\n",
    "    * Find the max of P(theta\\`) = P(theta|xi,yi for all i) * P(theta)\n",
    "3. Monte Carlo (more Bayesian)\n",
    "    * Sample from the posterior of theta give the data P(theta\\`)\n",
    "    \n",
    "NOTEs:\n",
    "* MLE is a special case of MAP where P(theta) is uninformative Uniform. P(theta) = 1\n",
    "* There are other distributions we can find given the data like the prior predictive distribution and the posterior predictive distribution"
   ]
  },
  {
   "cell_type": "markdown",
   "metadata": {},
   "source": [
    "# Other Things to Do with a Graphical Model\n",
    "\n",
    "* Prior Predictive Distribution P(x`,y`|theta) (predict more data before gathering data)\n",
    "* Posterior Predictive distribution P(x`,y`|x,y,theta) (predict more data after gathering data)"
   ]
  },
  {
   "cell_type": "markdown",
   "metadata": {},
   "source": [
    "# Some Notes\n",
    "\n",
    "* The arrows in a DAG can sometimes be completely deterministic operations.\n",
    "* Basically, each node is deterimined by ALL the incoming arrows by:\n",
    "    * Parameterising a probability distribution\n",
    "    * Input to a deterministic formula\n",
    "* Deterministic Operations are usually represented with different style of edges.\n",
    "* Plate Notation: When there are parts of the graph which repeat many times, the plate notation helps confine the graphical model's visualisation size.\n",
    "* Simplification is not only by reducing the number of edges in the graph, but also by determining how every arrow works (every conditional dependency). Is it Normal? Is it Gamma? Is it ...?"
   ]
  },
  {
   "cell_type": "markdown",
   "metadata": {},
   "source": [
    "# Frequentism vs Baysian\n",
    "\n",
    "* GMs represent probability distributions or a set thereof.\n",
    "* when making inference we can add priors to the unkown values/parameters we are trying to infer.\n",
    "* This is called being Baysian.\n",
    "* So, Maximum Likelihood is frequentist but MAP is baysian (but they are point estimates).\n",
    "* In a Baysian setting, we can get the posterior rather than the MAP (or an apporximation of it using Variation Inference or Markov Chain Monte Carlo MCMC)\n",
    "* Although in Hypothesis testing for example, the difference between being Baysian or not is slightly different.\n",
    "* The difference is mainly the fact that I never seen someone doing confidence intervals on the parameters when using Maximum Likelihood.\n",
    "* So, as far as I know, it is all about the prior over the parameters. Which is involves to treating the parameters are random variables."
   ]
  },
  {
   "cell_type": "markdown",
   "metadata": {},
   "source": [
    "# Summary\n",
    "\n",
    "* A DAG represents a set of probability distributions.\n",
    "* Give a data set we are looking for the one which most likely generated the data (or to that effect)."
   ]
  }
 ],
 "metadata": {
  "kernelspec": {
   "display_name": "Python 3",
   "language": "python",
   "name": "python3"
  },
  "language_info": {
   "codemirror_mode": {
    "name": "ipython",
    "version": 3
   },
   "file_extension": ".py",
   "mimetype": "text/x-python",
   "name": "python",
   "nbconvert_exporter": "python",
   "pygments_lexer": "ipython3",
   "version": "3.6.5"
  }
 },
 "nbformat": 4,
 "nbformat_minor": 2
}
