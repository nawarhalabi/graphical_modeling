{
 "cells": [
  {
   "cell_type": "markdown",
   "metadata": {},
   "source": [
    "## Basketball example"
   ]
  },
  {
   "cell_type": "code",
   "execution_count": 1,
   "metadata": {},
   "outputs": [],
   "source": [
    "model = \"\"\"data {\n",
    " int<lower=1> N1; //number of data points\n",
    " int x1[N1]; //number of outcomes\n",
    " int n1[N1]; // number of observations\n",
    " int<lower=1> N2; // number of new points\n",
    " matrix[N1+N2,N1+N2] dist; //distances between points\n",
    "}\n",
    "transformed data{\n",
    " int<lower=1> N;\n",
    " N = N1 + N2;\n",
    "}\n",
    "parameters{\n",
    " vector[N1] y1;\n",
    " vector[N2] y2;\n",
    " real beta;\n",
    " real  sigma_sq;\n",
    " real  phi;\n",
    "}\n",
    "transformed parameters{\n",
    " vector[N1+N2] mu;\n",
    " for(i in 1:N) mu[i] = beta;\n",
    "}\n",
    "model{\n",
    " vector[N] y;\n",
    " matrix[N,N] Sigma;\n",
    " matrix[N,N] L;\n",
    " for(i in 1:N1) y[i] = y1[i];\n",
    " for(i in 1:N2) y[N1+i] = y2[i];\n",
    " for(i in 1:(N-1)){\n",
    "   for(j in (i+1):N){\n",
    "     Sigma[i,j] = exp((-1)*phi*dist[i,j]);\n",
    "     Sigma[j,i] = Sigma[i,j];\n",
    "   }\n",
    " }\n",
    " for(i in 1:N) Sigma[i,i] = sigma_sq;\n",
    " L = cholesky_decompose(Sigma);\n",
    " sigma_sq ~ normal(0, 5);\n",
    " phi ~ normal(0, 5);\n",
    " y ~ multi_normal_cholesky(mu,L);\n",
    " beta ~ normal(0,5);\n",
    " x1 ~ binomial_logit(n1,y1);\n",
    "}\n",
    "generated quantities{\n",
    " vector[N2] y_pred;\n",
    " for(i in 1:N2) y_pred[i] = inv_logit(beta+y2[i]);\n",
    "}\"\"\""
   ]
  }
 ],
 "metadata": {
  "kernelspec": {
   "display_name": "Python 3",
   "language": "python",
   "name": "python3"
  },
  "language_info": {
   "codemirror_mode": {
    "name": "ipython",
    "version": 3
   },
   "file_extension": ".py",
   "mimetype": "text/x-python",
   "name": "python",
   "nbconvert_exporter": "python",
   "pygments_lexer": "ipython3",
   "version": "3.6.5"
  }
 },
 "nbformat": 4,
 "nbformat_minor": 2
}
