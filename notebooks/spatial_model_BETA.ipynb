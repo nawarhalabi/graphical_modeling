{
 "cells": [
  {
   "cell_type": "markdown",
   "metadata": {},
   "source": [
    "# Spatial models\n",
    "* R-INLA"
   ]
  },
  {
   "cell_type": "code",
   "execution_count": 1,
   "metadata": {},
   "outputs": [],
   "source": [
    "model = \"\"\"data {\n",
    "  int<lower = 1> n;\n",
    "  int<lower = 1> p;\n",
    "  matrix[n, p] X;\n",
    "  int<lower = 0> y[n];\n",
    "  vector[n] log_offset;\n",
    "  matrix<lower = 0, upper = 1>[n, n] W;\n",
    "}\n",
    "transformed data{\n",
    "  vector[n] zeros;\n",
    "  matrix<lower = 0>[n, n] D;\n",
    "  {\n",
    "    vector[n] W_rowsums;\n",
    "    for (i in 1:n) {\n",
    "      W_rowsums[i] = sum(W[i, ]);\n",
    "    }\n",
    "    D = diag_matrix(W_rowsums);\n",
    "  }\n",
    "  zeros = rep_vector(0, n);\n",
    "}\n",
    "parameters {\n",
    "  vector[p] beta;\n",
    "  vector[n] phi;\n",
    "  real<lower = 0> tau;\n",
    "  real<lower = 0, upper = 1> alpha;\n",
    "}\n",
    "model {\n",
    "  phi ~ multi_normal_prec(zeros, tau * (D - alpha * W));\n",
    "  beta ~ normal(0, 1);\n",
    "  tau ~ gamma(2, 2);\n",
    "  y ~ poisson_log(X * beta + phi + log_offset);\n",
    "}\"\"\""
   ]
  }
 ],
 "metadata": {
  "kernelspec": {
   "display_name": "Python 3",
   "language": "python",
   "name": "python3"
  },
  "language_info": {
   "codemirror_mode": {
    "name": "ipython",
    "version": 3
   },
   "file_extension": ".py",
   "mimetype": "text/x-python",
   "name": "python",
   "nbconvert_exporter": "python",
   "pygments_lexer": "ipython3",
   "version": "3.6.5"
  }
 },
 "nbformat": 4,
 "nbformat_minor": 2
}
