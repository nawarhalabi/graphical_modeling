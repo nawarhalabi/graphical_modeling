{
 "cells": [
  {
   "cell_type": "markdown",
   "metadata": {},
   "source": [
    "# Best Cricketer of All Time"
   ]
  },
  {
   "cell_type": "code",
   "execution_count": null,
   "metadata": {},
   "outputs": [],
   "source": [
    "bats = pd.read_csv('../data/batsmen.csv')"
   ]
  },
  {
   "cell_type": "code",
   "execution_count": null,
   "metadata": {},
   "outputs": [],
   "source": [
    "data = {\n",
    "    'N': len(bats),\n",
    "    'NP': len(bats['Player'])\n",
    "}"
   ]
  },
  {
   "cell_type": "code",
   "execution_count": null,
   "metadata": {},
   "outputs": [],
   "source": [
    "model = \"\"\"\n",
    "parameters {\n",
    "    real yp[N];        # Predict for fun\n",
    "    real mu[N];        # Each players deviation from decade mean .. mean\n",
    "    real phi_mu;       # the common mean\n",
    "    real beta_all[NP]; # The polynomial coefficients\n",
    "}\n",
    "data {\n",
    "    int N;         # Number of players\n",
    "    int NP;        # Number of polynomial regression dims\n",
    "    real Y[N];     # The averages\n",
    "    real V;        # Variance\n",
    "    int O[N];      # Number of runs\n",
    "    real X[N, NP]; # Design matrix for polynomial regression\n",
    "}\n",
    "model {\n",
    "    real vec[N, NP];\n",
    "    real lp[N];\n",
    "    \n",
    "    for (i in 1:N) {\n",
    "        y[i] ~ dnorm(lp[i], O[i] / V[i]);\n",
    "        yp[i] ~ dnorm(lp[i], O[i] / V[i]);\n",
    "        \n",
    "        for (r in 1:NP){\n",
    "            vec[i, r] <- beta_all[r] * X[i, r];\n",
    "        }\n",
    "        \n",
    "        lp[i] <- sum(vec[i, 1:NP]) + mu[i];\n",
    "    }\n",
    "    \n",
    "    for (i in 1:N){\n",
    "        mu[i] ~ dnorm(0, phi_mu) ;\n",
    "    }\n",
    "\n",
    "    for (r in 1:NP){\n",
    "        beta_all[r] ~ dnorm(0, 0.001);\n",
    "    }\n",
    "    \n",
    "    phi_mu ~ dunif(0, 100);\n",
    "}\n",
    "\"\"\""
   ]
  }
 ],
 "metadata": {
  "kernelspec": {
   "display_name": "Python 3",
   "language": "python",
   "name": "python3"
  },
  "language_info": {
   "codemirror_mode": {
    "name": "ipython",
    "version": 3
   },
   "file_extension": ".py",
   "mimetype": "text/x-python",
   "name": "python",
   "nbconvert_exporter": "python",
   "pygments_lexer": "ipython3",
   "version": "3.6.5"
  }
 },
 "nbformat": 4,
 "nbformat_minor": 2
}
